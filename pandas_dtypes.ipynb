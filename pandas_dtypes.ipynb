{
 "cells": [
  {
   "cell_type": "code",
   "execution_count": 6,
   "metadata": {},
   "outputs": [],
   "source": [
    "import pandas as pd\n",
    "import numpy as np"
   ]
  },
  {
   "cell_type": "markdown",
   "metadata": {},
   "source": [
    "Creating a series containing numbers as strings, blanks (single or more whitespaces) and NaN values"
   ]
  },
  {
   "cell_type": "code",
   "execution_count": 24,
   "metadata": {},
   "outputs": [
    {
     "name": "stdout",
     "output_type": "stream",
     "text": [
      "0      01\n",
      "1       2\n",
      "2      23\n",
      "3     NaN\n",
      "4        \n",
      "5        \n",
      "dtype: object\n"
     ]
    }
   ],
   "source": [
    "test = pd.Series(['01' , '2', '23', np.nan, \"\", \"    \"])\n",
    "print(test)\n"
   ]
  },
  {
   "cell_type": "code",
   "execution_count": 14,
   "metadata": {},
   "outputs": [
    {
     "name": "stdout",
     "output_type": "stream",
     "text": [
      "0      1\n",
      "1      2\n",
      "2     23\n",
      "3    NaN\n",
      "4       \n",
      "5       \n",
      "dtype: object\n",
      "test2 dtype is :  object\n"
     ]
    }
   ],
   "source": [
    "test2 = pd.Series([1 , 2, '23', np.nan, \"\", \" \"])\n",
    "print(test2)"
   ]
  },
  {
   "cell_type": "code",
   "execution_count": 31,
   "metadata": {},
   "outputs": [
    {
     "name": "stdout",
     "output_type": "stream",
     "text": [
      "test dtype is : object\n",
      "test2 dtype is : object\n"
     ]
    }
   ],
   "source": [
    "#both test and test2 are of 'object' dtype\n",
    "print(\"test dtype is :\", test.dtype)\n",
    "print(\"test2 dtype is :\", test2.dtype)\n",
    "\n",
    "# So we have to be careful in dealing with them as they react differently to a similar function applied on them."
   ]
  },
  {
   "cell_type": "code",
   "execution_count": 32,
   "metadata": {},
   "outputs": [
    {
     "data": {
      "text/plain": [
       "0    NaN\n",
       "1    NaN\n",
       "2     23\n",
       "3    NaN\n",
       "4       \n",
       "5       \n",
       "dtype: object"
      ]
     },
     "execution_count": 32,
     "metadata": {},
     "output_type": "execute_result"
    }
   ],
   "source": [
    "## look at .str functions for example\n",
    "test2.str.strip()\n",
    "#for the non-string cells, strip will turn to NA"
   ]
  },
  {
   "cell_type": "markdown",
   "metadata": {},
   "source": [
    "## Now back to the `test` Series."
   ]
  },
  {
   "cell_type": "code",
   "execution_count": 10,
   "metadata": {},
   "outputs": [
    {
     "data": {
      "text/plain": [
       "0     01\n",
       "1      2\n",
       "2     23\n",
       "3    NaN\n",
       "4    NaN\n",
       "5    NaN\n",
       "dtype: object"
      ]
     },
     "execution_count": 10,
     "metadata": {},
     "output_type": "execute_result"
    }
   ],
   "source": [
    "# we can turn blanks to NaN using replace after stripping extra whitespaces\n",
    "test.str.strip().replace('', np.nan)"
   ]
  },
  {
   "cell_type": "code",
   "execution_count": 11,
   "metadata": {},
   "outputs": [
    {
     "data": {
      "text/plain": [
       "0       1\n",
       "1       2\n",
       "2      23\n",
       "3    <NA>\n",
       "4    <NA>\n",
       "5    <NA>\n",
       "dtype: Int64"
      ]
     },
     "execution_count": 11,
     "metadata": {},
     "output_type": "execute_result"
    }
   ],
   "source": [
    "# now that we have strings and NaN only -- can turn them into Int64 after converting to float\n",
    "\n",
    "test.str.strip().replace(\"\", np.nan).astype(float).astype(\"Int64\")"
   ]
  },
  {
   "cell_type": "markdown",
   "metadata": {},
   "source": [
    "> In Conclusion, if the column is only consisted of strings and NaNs -- To correctly convert to numerical values, it's better to use the one-line code above."
   ]
  }
 ],
 "metadata": {
  "kernelspec": {
   "display_name": "Python 3.10.1 64-bit",
   "language": "python",
   "name": "python3"
  },
  "language_info": {
   "codemirror_mode": {
    "name": "ipython",
    "version": 3
   },
   "file_extension": ".py",
   "mimetype": "text/x-python",
   "name": "python",
   "nbconvert_exporter": "python",
   "pygments_lexer": "ipython3",
   "version": "3.10.1"
  },
  "orig_nbformat": 4,
  "vscode": {
   "interpreter": {
    "hash": "a8b55f8e432e0da9fd5f35e1b155f353bb13757ee4efc43a93dddc9997b0a427"
   }
  }
 },
 "nbformat": 4,
 "nbformat_minor": 2
}
