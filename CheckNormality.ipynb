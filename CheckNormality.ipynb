{
  "nbformat": 4,
  "nbformat_minor": 0,
  "metadata": {
    "colab": {
      "provenance": [],
      "authorship_tag": "ABX9TyOon6094Z8gH5KUcFBkd/qw",
      "include_colab_link": true
    },
    "kernelspec": {
      "name": "python3",
      "display_name": "Python 3"
    },
    "language_info": {
      "name": "python"
    }
  },
  "cells": [
    {
      "cell_type": "markdown",
      "metadata": {
        "id": "view-in-github",
        "colab_type": "text"
      },
      "source": [
        "<a href=\"https://colab.research.google.com/github/farazahmadi/DS-with-Faraz/blob/main/CheckNormality.ipynb\" target=\"_parent\"><img src=\"https://colab.research.google.com/assets/colab-badge.svg\" alt=\"Open In Colab\"/></a>"
      ]
    },
    {
      "cell_type": "markdown",
      "source": [
        "\n",
        "\n",
        "# Interview Query Python question | Check Normality\n",
        "\n",
        "This question was asked by: Amazon\n",
        "\n",
        "Write a function that checks if a list of integers is normally distributed.\n",
        "\n",
        "Specifically, given a list of 100 numbers, write a function that returns a score that measures the deviation from normality. I.E., a normally distributed list of integers would return 0. Use What is called the 68-95-99.7 rule of thumb for normal distributions.*\n",
        "\n",
        "Note: Because this question can be completed in many different ways, no test cases are provided. However, please make sure to share your solution in the comments below!\n",
        "\n",
        "Bonus: Don’t use any graphical output or a statistical test for normality.\n",
        "\n",
        "Here's the solution."
      ],
      "metadata": {
        "id": "nmiARiLqfcFw"
      }
    },
    {
      "cell_type": "code",
      "execution_count": 46,
      "metadata": {
        "id": "v0oplPUHWNFT"
      },
      "outputs": [],
      "source": [
        "import numpy as np\n",
        "import matplotlib.pyplot as plt\n",
        "import seaborn as sns\n",
        "from random import  randint"
      ]
    },
    {
      "cell_type": "code",
      "source": [
        "scores = []\n",
        "for x in range(0,101):\n",
        "    scores.append(randint(0,100))\n",
        "\n",
        "sns.histplot(scores)\n",
        "plt.show()"
      ],
      "metadata": {
        "colab": {
          "base_uri": "https://localhost:8080/",
          "height": 430
        },
        "id": "hevVSAD-YWXe",
        "outputId": "b9cb6290-285f-47e3-d3a2-8f63d1ea4a10"
      },
      "execution_count": 49,
      "outputs": [
        {
          "output_type": "display_data",
          "data": {
            "text/plain": [
              "<Figure size 640x480 with 1 Axes>"
            ],
            "image/png": "[encoded data removed]"
          },
          "metadata": {}
        }
      ]
    },
    {
      "cell_type": "code",
      "source": [
        "percentages = np.array([68, 95, 99.7])\n",
        "\n",
        "num = np.array(scores)\n",
        "mean = num.mean()\n",
        "var = num.std()\n",
        "\n",
        "limits = [(mean - i* var,mean + i* var) for i in range(1,4)]\n",
        "\n",
        "cnts = []\n",
        "for i, limit in enumerate(limits):\n",
        "  cnts.append((num[(num > limit[0]) & (num < limit[1])].shape[0]) / num.shape[0])\n",
        "\n",
        "print(cnts)\n",
        "\n",
        "MSE = ((cnts - percentages/100)**2).mean()\n",
        "MSE"
      ],
      "metadata": {
        "colab": {
          "base_uri": "https://localhost:8080/"
        },
        "id": "AKebNenIXZal",
        "outputId": "e3cff9af-6cae-481c-9a85-e06d4c6b12da"
      },
      "execution_count": 50,
      "outputs": [
        {
          "output_type": "stream",
          "name": "stdout",
          "text": [
            "[0.5841584158415841, 1.0, 1.0]\n"
          ]
        },
        {
          "output_type": "execute_result",
          "data": {
            "text/plain": [
              "0.0038982030846649086"
            ]
          },
          "metadata": {},
          "execution_count": 50
        }
      ]
    },
    {
      "cell_type": "code",
      "source": [
        "# the closer MSE is to 0 the more normal the distribution is"
      ],
      "metadata": {
        "id": "9LY6qjxeZDX9"
      },
      "execution_count": 51,
      "outputs": []
    },
    {
      "cell_type": "code",
      "source": [],
      "metadata": {
        "id": "1XcxYHVzgAD3"
      },
      "execution_count": null,
      "outputs": []
    }
  ]
}